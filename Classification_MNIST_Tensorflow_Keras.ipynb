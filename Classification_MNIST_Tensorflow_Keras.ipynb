{
 "cells": [
  {
   "cell_type": "markdown",
   "metadata": {},
   "source": [
    "# Summary\n",
    "In this notebook I classify images of hand-written digits from MNIST data set. These are the implemented steps to perform the classification:\n",
    "1. Load data and explore data.\n",
    "***\n",
    "2. Data prepration.\n",
    "    1. Split the train dataset into train and validation (dev) sets.\n",
    "    2. Scale the pixel intensities in all train and test data down to the 0-1 range and convert them to floats.\n",
    "***\n",
    "3. Train a deep Multi Layer Perceptron (MLP) NN.\n",
    "***\n",
    "4. To improve the model (goal is 98% accuracy) perform hyper parameter tuning with the focus on learning rate. Use the approach in Chapter 10 of \"Hands-On Machine Learning with Scikit-Learn, Keras, and TensorFlow: Concepts, Tools, and Techniques to Build Intelligent Systems\". The approach is to increase the learning rate exponentially, plotting the loss, and finding the point where the loss shoots up.\n",
    "    1. Created a call back that inherits from keras.callbacks.callback that gradually increases learning rate.\n",
    "    2. Passed the callback to the model\n",
    "    3. ran model for one epoch and plotted the callback saved loss values vs. saved rate values.\n",
    "    4. Picked the best learning rate (half of the value when the loss started to go up again)\n",
    "***\n",
    "4. Using the learning rate found in step 2, created a model and \n",
    "    1. passed a callback to it for tensorboard (keras.callbacks.TensorBoard)\n",
    "    2. passed a callback for early stopping (keras.callbacks.EarlyStopping)\n",
    "    3. passed a calleback to save the best model during the training process(keras.callbacks.ModelCheckPoint)\n",
    "***\n",
    "Lessons learned:\n",
    "* Restart the session before any run!!! otherwise there are gonna be some problems."
   ]
  },
  {
   "cell_type": "code",
   "execution_count": 1,
   "metadata": {},
   "outputs": [],
   "source": [
    "import tensorflow as tf\n",
    "from tensorflow import keras\n",
    "\n",
    "import numpy as np\n",
    "import pandas as pd\n",
    "import matplotlib.pyplot as plt"
   ]
  },
  {
   "cell_type": "markdown",
   "metadata": {},
   "source": [
    "# Loading and Exploring Data"
   ]
  },
  {
   "cell_type": "code",
   "execution_count": 2,
   "metadata": {},
   "outputs": [],
   "source": [
    "(X_train_all, y_train_all), (X_test, y_test )= keras.datasets.mnist.load_data()"
   ]
  },
  {
   "cell_type": "code",
   "execution_count": 3,
   "metadata": {},
   "outputs": [
    {
     "data": {
      "text/plain": [
       "(60000, 28, 28)"
      ]
     },
     "execution_count": 3,
     "metadata": {},
     "output_type": "execute_result"
    }
   ],
   "source": [
    "X_train_all.shape"
   ]
  },
  {
   "cell_type": "code",
   "execution_count": 4,
   "metadata": {},
   "outputs": [
    {
     "data": {
      "text/plain": [
       "(10000, 28, 28)"
      ]
     },
     "execution_count": 4,
     "metadata": {},
     "output_type": "execute_result"
    }
   ],
   "source": [
    "X_test.shape"
   ]
  },
  {
   "cell_type": "code",
   "execution_count": 5,
   "metadata": {},
   "outputs": [
    {
     "data": {
      "text/plain": [
       "<matplotlib.image.AxesImage at 0x7fd3cd148850>"
      ]
     },
     "execution_count": 5,
     "metadata": {},
     "output_type": "execute_result"
    },
    {
     "data": {
      "image/png": "[encoded data removed]",
      "text/plain": [
       "<Figure size 432x288 with 1 Axes>"
      ]
     },
     "metadata": {
      "needs_background": "light"
     },
     "output_type": "display_data"
    }
   ],
   "source": [
    "plt.imshow(X_train_all[800,:], cmap=\"binary\")"
   ]
  },
  {
   "cell_type": "markdown",
   "metadata": {},
   "source": [
    "# Data Prepration\n",
    "\n",
    "A. Splitting train set into train and validation sets. I could simply use indexes to perform this task but I prefered to use the sklearn library for the sake of practicing. "
   ]
  },
  {
   "cell_type": "code",
   "execution_count": 6,
   "metadata": {},
   "outputs": [],
   "source": [
    "from sklearn.model_selection import train_test_split\n",
    "\n",
    "X_train, X_valid, y_train, y_valid = train_test_split(X_train_all, y_train_all, train_size=0.95, random_state = 42)"
   ]
  },
  {
   "cell_type": "code",
   "execution_count": 7,
   "metadata": {},
   "outputs": [
    {
     "data": {
      "text/plain": [
       "(57000, 28, 28)"
      ]
     },
     "execution_count": 7,
     "metadata": {},
     "output_type": "execute_result"
    }
   ],
   "source": [
    "X_train.shape"
   ]
  },
  {
   "cell_type": "code",
   "execution_count": 8,
   "metadata": {},
   "outputs": [
    {
     "data": {
      "text/plain": [
       "(3000,)"
      ]
     },
     "execution_count": 8,
     "metadata": {},
     "output_type": "execute_result"
    }
   ],
   "source": [
    "y_valid.shape"
   ]
  },
  {
   "cell_type": "code",
   "execution_count": 9,
   "metadata": {},
   "outputs": [
    {
     "data": {
      "text/plain": [
       "(3000, 28, 28)"
      ]
     },
     "execution_count": 9,
     "metadata": {},
     "output_type": "execute_result"
    }
   ],
   "source": [
    "X_valid.shape"
   ]
  },
  {
   "cell_type": "code",
   "execution_count": 10,
   "metadata": {},
   "outputs": [
    {
     "data": {
      "text/plain": [
       "(3000,)"
      ]
     },
     "execution_count": 10,
     "metadata": {},
     "output_type": "execute_result"
    }
   ],
   "source": [
    "y_valid.shape"
   ]
  },
  {
   "cell_type": "code",
   "execution_count": 11,
   "metadata": {},
   "outputs": [
    {
     "data": {
      "image/png": "[encoded data removed]",
      "text/plain": [
       "<Figure size 432x288 with 1 Axes>"
      ]
     },
     "metadata": {
      "needs_background": "light"
     },
     "output_type": "display_data"
    }
   ],
   "source": [
    "plt.imshow(X_valid[10,:], cmap=\"binary\")\n",
    "plt.axis('off')\n",
    "plt.show()"
   ]
  },
  {
   "cell_type": "markdown",
   "metadata": {},
   "source": [
    "B. Feature Scaling (Standardization)"
   ]
  },
  {
   "cell_type": "code",
   "execution_count": 12,
   "metadata": {},
   "outputs": [],
   "source": [
    "X_train = X_train/255.0\n",
    "X_valid = X_valid/255.0\n",
    "X_test = X_test/255.0"
   ]
  },
  {
   "cell_type": "markdown",
   "metadata": {},
   "source": [
    "# Building the MLP Model"
   ]
  },
  {
   "cell_type": "markdown",
   "metadata": {},
   "source": [
    "Lets build a deep network with 2 hidden layers, 1 output and 1 input layer."
   ]
  },
  {
   "cell_type": "code",
   "execution_count": 13,
   "metadata": {},
   "outputs": [],
   "source": [
    "keras.backend.clear_session()\n",
    "np.random.seed(42)\n",
    "tf.random.set_seed(42)"
   ]
  },
  {
   "cell_type": "code",
   "execution_count": 14,
   "metadata": {},
   "outputs": [],
   "source": [
    "model = keras.models.Sequential()\n",
    "model.add(keras.layers.Flatten(input_shape = [28,28]))\n",
    "model.add(keras.layers.Dense(300, activation = \"relu\"))\n",
    "model.add(keras.layers.Dense(100, activation = \"relu\"))\n",
    "model.add(keras.layers.Dense(10, activation = \"softmax\"))"
   ]
  },
  {
   "cell_type": "code",
   "execution_count": 15,
   "metadata": {},
   "outputs": [],
   "source": [
    "model.compile(loss= keras.losses.sparse_categorical_crossentropy,\n",
    "              optimizer=keras.optimizers.SGD(lr=0.001),\n",
    "              metrics=[\"accuracy\"])"
   ]
  },
  {
   "cell_type": "code",
   "execution_count": 16,
   "metadata": {},
   "outputs": [
    {
     "name": "stdout",
     "output_type": "stream",
     "text": [
      "Epoch 1/30\n",
      "1782/1782 [==============================] - 4s 2ms/step - loss: 2.0816 - accuracy: 0.3267 - val_loss: 1.2279 - val_accuracy: 0.7710\n",
      "Epoch 2/30\n",
      "1782/1782 [==============================] - 3s 2ms/step - loss: 1.0264 - accuracy: 0.8080 - val_loss: 0.7050 - val_accuracy: 0.8400\n",
      "Epoch 3/30\n",
      "1782/1782 [==============================] - 3s 2ms/step - loss: 0.6359 - accuracy: 0.8525 - val_loss: 0.5402 - val_accuracy: 0.8647\n",
      "Epoch 4/30\n",
      "1782/1782 [==============================] - 4s 2ms/step - loss: 0.5063 - accuracy: 0.8713 - val_loss: 0.4643 - val_accuracy: 0.8740\n",
      "Epoch 5/30\n",
      "1782/1782 [==============================] - 3s 2ms/step - loss: 0.4356 - accuracy: 0.8868 - val_loss: 0.4211 - val_accuracy: 0.8807\n",
      "Epoch 6/30\n",
      "1782/1782 [==============================] - 3s 2ms/step - loss: 0.3995 - accuracy: 0.8938 - val_loss: 0.3917 - val_accuracy: 0.8867\n",
      "Epoch 7/30\n",
      "1782/1782 [==============================] - 3s 2ms/step - loss: 0.3797 - accuracy: 0.8952 - val_loss: 0.3713 - val_accuracy: 0.8910\n",
      "Epoch 8/30\n",
      "1782/1782 [==============================] - 3s 2ms/step - loss: 0.3617 - accuracy: 0.8990 - val_loss: 0.3536 - val_accuracy: 0.8963\n",
      "Epoch 9/30\n",
      "1782/1782 [==============================] - 3s 2ms/step - loss: 0.3437 - accuracy: 0.9033 - val_loss: 0.3405 - val_accuracy: 0.9007\n",
      "Epoch 10/30\n",
      "1782/1782 [==============================] - 3s 2ms/step - loss: 0.3229 - accuracy: 0.9094 - val_loss: 0.3281 - val_accuracy: 0.9060\n",
      "Epoch 11/30\n",
      "1782/1782 [==============================] - 3s 2ms/step - loss: 0.3174 - accuracy: 0.9109 - val_loss: 0.3185 - val_accuracy: 0.9057\n",
      "Epoch 12/30\n",
      "1782/1782 [==============================] - 3s 2ms/step - loss: 0.3084 - accuracy: 0.9113 - val_loss: 0.3078 - val_accuracy: 0.9070\n",
      "Epoch 13/30\n",
      "1782/1782 [==============================] - 3s 2ms/step - loss: 0.2984 - accuracy: 0.9153 - val_loss: 0.2998 - val_accuracy: 0.9110\n",
      "Epoch 14/30\n",
      "1782/1782 [==============================] - 3s 2ms/step - loss: 0.2903 - accuracy: 0.9173 - val_loss: 0.2927 - val_accuracy: 0.9130\n",
      "Epoch 15/30\n",
      "1782/1782 [==============================] - 4s 2ms/step - loss: 0.2834 - accuracy: 0.9189 - val_loss: 0.2858 - val_accuracy: 0.9157\n",
      "Epoch 16/30\n",
      "1782/1782 [==============================] - 4s 2ms/step - loss: 0.2749 - accuracy: 0.9207 - val_loss: 0.2800 - val_accuracy: 0.9160\n",
      "Epoch 17/30\n",
      "1782/1782 [==============================] - 4s 2ms/step - loss: 0.2679 - accuracy: 0.9228 - val_loss: 0.2721 - val_accuracy: 0.9200\n",
      "Epoch 18/30\n",
      "1782/1782 [==============================] - 4s 2ms/step - loss: 0.2630 - accuracy: 0.9240 - val_loss: 0.2670 - val_accuracy: 0.9200\n",
      "Epoch 19/30\n",
      "1782/1782 [==============================] - 4s 2ms/step - loss: 0.2575 - accuracy: 0.9261 - val_loss: 0.2626 - val_accuracy: 0.9217\n",
      "Epoch 20/30\n",
      "1782/1782 [==============================] - 4s 2ms/step - loss: 0.2497 - accuracy: 0.9296 - val_loss: 0.2585 - val_accuracy: 0.9240\n",
      "Epoch 21/30\n",
      "1782/1782 [==============================] - 4s 2ms/step - loss: 0.2485 - accuracy: 0.9298 - val_loss: 0.2531 - val_accuracy: 0.9233\n",
      "Epoch 22/30\n",
      "1782/1782 [==============================] - 4s 2ms/step - loss: 0.2424 - accuracy: 0.9308 - val_loss: 0.2474 - val_accuracy: 0.9243\n",
      "Epoch 23/30\n",
      "1782/1782 [==============================] - 4s 2ms/step - loss: 0.2413 - accuracy: 0.9315 - val_loss: 0.2431 - val_accuracy: 0.9280\n",
      "Epoch 24/30\n",
      "1782/1782 [==============================] - 4s 2ms/step - loss: 0.2377 - accuracy: 0.9318 - val_loss: 0.2399 - val_accuracy: 0.9277\n",
      "Epoch 25/30\n",
      "1782/1782 [==============================] - 4s 2ms/step - loss: 0.2305 - accuracy: 0.9340 - val_loss: 0.2353 - val_accuracy: 0.9293\n",
      "Epoch 26/30\n",
      "1782/1782 [==============================] - 4s 2ms/step - loss: 0.2287 - accuracy: 0.9349 - val_loss: 0.2315 - val_accuracy: 0.9300\n",
      "Epoch 27/30\n",
      "1782/1782 [==============================] - 4s 2ms/step - loss: 0.2222 - accuracy: 0.9368 - val_loss: 0.2281 - val_accuracy: 0.9313\n",
      "Epoch 28/30\n",
      "1782/1782 [==============================] - 4s 2ms/step - loss: 0.2203 - accuracy: 0.9374 - val_loss: 0.2238 - val_accuracy: 0.9330\n",
      "Epoch 29/30\n",
      "1782/1782 [==============================] - 4s 2ms/step - loss: 0.2214 - accuracy: 0.9382 - val_loss: 0.2197 - val_accuracy: 0.9343\n",
      "Epoch 30/30\n",
      "1782/1782 [==============================] - 4s 2ms/step - loss: 0.2136 - accuracy: 0.9399 - val_loss: 0.2175 - val_accuracy: 0.9360\n"
     ]
    }
   ],
   "source": [
    "history = model.fit(X_train, y_train, epochs = 30, validation_data = (X_valid, y_valid))"
   ]
  },
  {
   "cell_type": "markdown",
   "metadata": {},
   "source": [
    "### Visualizing learning curves"
   ]
  },
  {
   "cell_type": "code",
   "execution_count": 17,
   "metadata": {},
   "outputs": [
    {
     "data": {
      "image/png": "[encoded data removed]",
      "text/plain": [
       "<Figure size 432x288 with 1 Axes>"
      ]
     },
     "metadata": {
      "needs_background": "light"
     },
     "output_type": "display_data"
    }
   ],
   "source": [
    "# Plot accuracy\n",
    "plt.plot(history.history['accuracy'])\n",
    "plt.plot(history.history['val_accuracy'])\n",
    "plt.title('model accuracy')\n",
    "plt.ylabel('accuracy')\n",
    "plt.xlabel('epoch')\n",
    "plt.legend(['train', 'valid'], loc='upper left')\n",
    "plt.show()"
   ]
  },
  {
   "cell_type": "code",
   "execution_count": 18,
   "metadata": {},
   "outputs": [
    {
     "data": {
      "image/png": "[encoded data removed]",
      "text/plain": [
       "<Figure size 432x288 with 1 Axes>"
      ]
     },
     "metadata": {
      "needs_background": "light"
     },
     "output_type": "display_data"
    }
   ],
   "source": [
    "# Plot loss\n",
    "plt.plot(history.history['loss'])\n",
    "plt.plot(history.history['val_loss'])\n",
    "plt.title('model loss')\n",
    "plt.ylabel('loss')\n",
    "plt.xlabel('epoch')\n",
    "plt.legend(['train', 'valid'], loc='upper left')\n",
    "plt.show()"
   ]
  },
  {
   "cell_type": "code",
   "execution_count": 19,
   "metadata": {},
   "outputs": [
    {
     "name": "stdout",
     "output_type": "stream",
     "text": [
      "313/313 [==============================] - 0s 728us/step - loss: 0.2093 - accuracy: 0.9409\n"
     ]
    },
    {
     "data": {
      "text/plain": [
       "[0.20930759608745575, 0.9409000277519226]"
      ]
     },
     "execution_count": 19,
     "metadata": {},
     "output_type": "execute_result"
    }
   ],
   "source": [
    "model.evaluate(X_test, y_test)"
   ]
  },
  {
   "cell_type": "markdown",
   "metadata": {},
   "source": [
    "\n",
    "As show above, the accuracy is relatively low and did not reach our goal (98%). Let's try hyper parameter tuning to increase accuracy."
   ]
  },
  {
   "cell_type": "markdown",
   "metadata": {},
   "source": [
    "# Searching for the best learning rate"
   ]
  },
  {
   "cell_type": "code",
   "execution_count": 20,
   "metadata": {},
   "outputs": [],
   "source": [
    "keras.backend.clear_session()\n",
    "np.random.seed(42)\n",
    "tf.random.set_seed(42)"
   ]
  },
  {
   "cell_type": "code",
   "execution_count": 21,
   "metadata": {},
   "outputs": [],
   "source": [
    "model = keras.models.Sequential()\n",
    "model.add(keras.layers.Flatten(input_shape = [28,28]))\n",
    "model.add(keras.layers.Dense(300, activation = \"relu\"))\n",
    "model.add(keras.layers.Dense(100, activation = \"relu\"))\n",
    "model.add(keras.layers.Dense(10, activation = \"softmax\"))"
   ]
  },
  {
   "cell_type": "code",
   "execution_count": 22,
   "metadata": {},
   "outputs": [],
   "source": [
    "model.compile(loss= keras.losses.sparse_categorical_crossentropy,\n",
    "              optimizer=keras.optimizers.SGD(lr=0.001),\n",
    "              metrics=[\"accuracy\"])"
   ]
  },
  {
   "cell_type": "code",
   "execution_count": 23,
   "metadata": {},
   "outputs": [],
   "source": [
    "K = keras.backend\n",
    "class ExponentialLearningRate(keras.callbacks.Callback):\n",
    "    def __init__(self, factor):\n",
    "        self.factor = factor\n",
    "        self.rates = []\n",
    "        self.losses = []\n",
    "    def on_batch_end(self, batch, logs):\n",
    "        self.rates.append(K.get_value(self.model.optimizer.lr))\n",
    "        self.losses.append(logs[\"loss\"])\n",
    "        K.set_value(self.model.optimizer.lr, self.model.optimizer.lr * self.factor)"
   ]
  },
  {
   "cell_type": "code",
   "execution_count": 24,
   "metadata": {},
   "outputs": [],
   "source": [
    "exponentialLRCallBack = ExponentialLearningRate(1.005)"
   ]
  },
  {
   "cell_type": "code",
   "execution_count": 25,
   "metadata": {},
   "outputs": [
    {
     "name": "stdout",
     "output_type": "stream",
     "text": [
      "1782/1782 [==============================] - 4s 2ms/step - loss: nan - accuracy: 0.4987 - val_loss: nan - val_accuracy: 0.0977\n"
     ]
    }
   ],
   "source": [
    "history = model.fit(X_train, y_train, epochs = 1, validation_data = (X_valid, y_valid),\n",
    "                    callbacks=[exponentialLRCallBack])"
   ]
  },
  {
   "cell_type": "code",
   "execution_count": 26,
   "metadata": {},
   "outputs": [
    {
     "data": {
      "text/plain": [
       "Text(0, 0.5, 'Loss')"
      ]
     },
     "execution_count": 26,
     "metadata": {},
     "output_type": "execute_result"
    },
    {
     "data": {
      "image/png": "[encoded data removed]",
      "text/plain": [
       "<Figure size 432x288 with 1 Axes>"
      ]
     },
     "metadata": {
      "needs_background": "light"
     },
     "output_type": "display_data"
    }
   ],
   "source": [
    "plt.plot(exponentialLRCallBack.rates, exponentialLRCallBack.losses)\n",
    "plt.gca().set_xscale('log')\n",
    "plt.hlines(min(exponentialLRCallBack.losses), min(exponentialLRCallBack.rates), max(exponentialLRCallBack.rates))\n",
    "plt.axis([min(exponentialLRCallBack.rates), max(exponentialLRCallBack.rates), 0, exponentialLRCallBack.losses[0]])\n",
    "plt.grid()\n",
    "plt.xlabel(\"Learning rate\")\n",
    "plt.ylabel(\"Loss\")"
   ]
  },
  {
   "cell_type": "markdown",
   "metadata": {},
   "source": [
    "It looks like it starts to go up between 1e-1 and 10. So we clear the session and run the model with lr = 3e-1"
   ]
  },
  {
   "cell_type": "code",
   "execution_count": 27,
   "metadata": {},
   "outputs": [],
   "source": [
    "keras.backend.clear_session()\n",
    "np.random.seed(42)\n",
    "tf.random.set_seed(42)"
   ]
  },
  {
   "cell_type": "code",
   "execution_count": 28,
   "metadata": {},
   "outputs": [],
   "source": [
    "model = keras.models.Sequential()\n",
    "model.add(keras.layers.Flatten(input_shape = [28,28]))\n",
    "model.add(keras.layers.Dense(300, activation = \"relu\"))\n",
    "model.add(keras.layers.Dense(100, activation = \"relu\"))\n",
    "model.add(keras.layers.Dense(10, activation = \"softmax\"))"
   ]
  },
  {
   "cell_type": "code",
   "execution_count": 29,
   "metadata": {},
   "outputs": [],
   "source": [
    "model.compile(loss= keras.losses.sparse_categorical_crossentropy,\n",
    "              optimizer=keras.optimizers.SGD(lr=3e-1),\n",
    "              metrics=[\"accuracy\"])"
   ]
  },
  {
   "cell_type": "code",
   "execution_count": 30,
   "metadata": {},
   "outputs": [],
   "source": [
    "# tensorboard call back\n",
    "import os\n",
    "\n",
    "run_index = 5 # increment this at every run\n",
    "run_logdir = os.path.join(os.curdir, \"my_mnist_logs\", \"run_{:03d}\".format(run_index))\n",
    "run_logdir\n",
    "tensorboardCb = keras.callbacks.TensorBoard(run_logdir)"
   ]
  },
  {
   "cell_type": "code",
   "execution_count": 31,
   "metadata": {},
   "outputs": [],
   "source": [
    "# Saving the best model call back\n",
    "saveBestCb = keras.callbacks.ModelCheckpoint(\"Classification_MNIST_best.h5\", save_best_only=True)"
   ]
  },
  {
   "cell_type": "code",
   "execution_count": 32,
   "metadata": {},
   "outputs": [
    {
     "name": "stdout",
     "output_type": "stream",
     "text": [
      "Epoch 1/30\n",
      "1782/1782 [==============================] - 4s 2ms/step - loss: 0.3998 - accuracy: 0.8745 - val_loss: 0.1285 - val_accuracy: 0.9630\n",
      "Epoch 2/30\n",
      "1782/1782 [==============================] - 4s 2ms/step - loss: 0.0938 - accuracy: 0.9700 - val_loss: 0.0852 - val_accuracy: 0.9747\n",
      "Epoch 3/30\n",
      "1782/1782 [==============================] - 4s 2ms/step - loss: 0.0611 - accuracy: 0.9805 - val_loss: 0.0844 - val_accuracy: 0.9750\n",
      "Epoch 4/30\n",
      "1782/1782 [==============================] - 4s 2ms/step - loss: 0.0448 - accuracy: 0.9854 - val_loss: 0.0718 - val_accuracy: 0.9750\n",
      "Epoch 5/30\n",
      "1782/1782 [==============================] - 4s 2ms/step - loss: 0.0331 - accuracy: 0.9890 - val_loss: 0.0740 - val_accuracy: 0.9787\n",
      "Epoch 6/30\n",
      "1782/1782 [==============================] - 4s 2ms/step - loss: 0.0250 - accuracy: 0.9918 - val_loss: 0.1041 - val_accuracy: 0.9723\n",
      "Epoch 7/30\n",
      "1782/1782 [==============================] - 4s 2ms/step - loss: 0.0243 - accuracy: 0.9925 - val_loss: 0.0705 - val_accuracy: 0.9813\n",
      "Epoch 8/30\n",
      "1782/1782 [==============================] - 4s 2ms/step - loss: 0.0135 - accuracy: 0.9955 - val_loss: 0.0743 - val_accuracy: 0.9823\n",
      "Epoch 9/30\n",
      "1782/1782 [==============================] - 4s 2ms/step - loss: 0.0125 - accuracy: 0.9961 - val_loss: 0.0925 - val_accuracy: 0.9777\n",
      "Epoch 10/30\n",
      "1782/1782 [==============================] - 4s 2ms/step - loss: 0.0144 - accuracy: 0.9954 - val_loss: 0.0925 - val_accuracy: 0.9803\n",
      "Epoch 11/30\n",
      "1782/1782 [==============================] - 4s 2ms/step - loss: 0.0128 - accuracy: 0.9955 - val_loss: 0.0855 - val_accuracy: 0.9813\n",
      "Epoch 12/30\n",
      "1782/1782 [==============================] - 4s 2ms/step - loss: 0.0095 - accuracy: 0.9969 - val_loss: 0.1203 - val_accuracy: 0.9713\n",
      "Epoch 13/30\n",
      "1782/1782 [==============================] - 4s 2ms/step - loss: 0.0109 - accuracy: 0.9965 - val_loss: 0.0931 - val_accuracy: 0.9800\n",
      "Epoch 14/30\n",
      "1782/1782 [==============================] - 4s 2ms/step - loss: 0.0074 - accuracy: 0.9978 - val_loss: 0.0978 - val_accuracy: 0.9810\n",
      "Epoch 15/30\n",
      "1782/1782 [==============================] - 4s 2ms/step - loss: 0.0071 - accuracy: 0.9976 - val_loss: 0.0846 - val_accuracy: 0.9820\n",
      "Epoch 16/30\n",
      "1782/1782 [==============================] - 4s 2ms/step - loss: 0.0058 - accuracy: 0.9983 - val_loss: 0.0871 - val_accuracy: 0.9847\n",
      "Epoch 17/30\n",
      "1782/1782 [==============================] - 4s 2ms/step - loss: 0.0015 - accuracy: 0.9996 - val_loss: 0.0816 - val_accuracy: 0.9860\n",
      "Epoch 18/30\n",
      "1782/1782 [==============================] - 4s 2ms/step - loss: 5.8995e-04 - accuracy: 0.9999 - val_loss: 0.0799 - val_accuracy: 0.9860\n",
      "Epoch 19/30\n",
      "1782/1782 [==============================] - 4s 2ms/step - loss: 1.8184e-04 - accuracy: 1.0000 - val_loss: 0.0796 - val_accuracy: 0.9870\n",
      "Epoch 20/30\n",
      "1782/1782 [==============================] - 4s 2ms/step - loss: 7.9170e-05 - accuracy: 1.0000 - val_loss: 0.0789 - val_accuracy: 0.9870\n",
      "Epoch 21/30\n",
      "1782/1782 [==============================] - 4s 2ms/step - loss: 6.9475e-05 - accuracy: 1.0000 - val_loss: 0.0797 - val_accuracy: 0.9870\n",
      "Epoch 22/30\n",
      "1782/1782 [==============================] - 4s 2ms/step - loss: 5.3644e-05 - accuracy: 1.0000 - val_loss: 0.0802 - val_accuracy: 0.9870\n",
      "Epoch 23/30\n",
      "1782/1782 [==============================] - 4s 2ms/step - loss: 5.3687e-05 - accuracy: 1.0000 - val_loss: 0.0810 - val_accuracy: 0.9867\n",
      "Epoch 24/30\n",
      "1782/1782 [==============================] - 4s 2ms/step - loss: 4.6787e-05 - accuracy: 1.0000 - val_loss: 0.0810 - val_accuracy: 0.9867\n",
      "Epoch 25/30\n",
      "1782/1782 [==============================] - 4s 2ms/step - loss: 4.4036e-05 - accuracy: 1.0000 - val_loss: 0.0815 - val_accuracy: 0.9867\n",
      "Epoch 26/30\n",
      "1782/1782 [==============================] - 4s 2ms/step - loss: 3.9001e-05 - accuracy: 1.0000 - val_loss: 0.0818 - val_accuracy: 0.9870\n",
      "Epoch 27/30\n",
      "1782/1782 [==============================] - 4s 2ms/step - loss: 3.9452e-05 - accuracy: 1.0000 - val_loss: 0.0824 - val_accuracy: 0.9870\n"
     ]
    }
   ],
   "source": [
    "history = model.fit(X_train, y_train, epochs = 30, validation_data = (X_valid, y_valid),\n",
    "                   callbacks=[keras.callbacks.EarlyStopping(patience=20),\n",
    "                             tensorboardCb,\n",
    "                             saveBestCb])"
   ]
  },
  {
   "cell_type": "code",
   "execution_count": 33,
   "metadata": {},
   "outputs": [
    {
     "name": "stdout",
     "output_type": "stream",
     "text": [
      "313/313 [==============================] - 0s 792us/step - loss: 0.0755 - accuracy: 0.9803\n"
     ]
    },
    {
     "data": {
      "text/plain": [
       "[0.07547134906053543, 0.9803000092506409]"
      ]
     },
     "execution_count": 33,
     "metadata": {},
     "output_type": "execute_result"
    }
   ],
   "source": [
    "model = keras.models.load_model(\"Classification_MNIST_best.h5\")\n",
    "model.evaluate(X_test, y_test)"
   ]
  },
  {
   "cell_type": "code",
   "execution_count": 34,
   "metadata": {},
   "outputs": [
    {
     "data": {
      "text/plain": [
       "Reusing TensorBoard on port 6008 (pid 81223), started 0:33:14 ago. (Use '!kill 81223' to kill it.)"
      ]
     },
     "metadata": {},
     "output_type": "display_data"
    },
    {
     "data": {
      "text/html": [
       "\n",
       "      <iframe id=\"tensorboard-frame-bca39be4e9975789\" width=\"100%\" height=\"800\" frameborder=\"0\">\n",
       "      </iframe>\n",
       "      <script>\n",
       "        (function() {\n",
       "          const frame = document.getElementById(\"tensorboard-frame-bca39be4e9975789\");\n",
       "          const url = new URL(\"/\", window.location);\n",
       "          const port = 6008;\n",
       "          if (port) {\n",
       "            url.port = port;\n",
       "          }\n",
       "          frame.src = url;\n",
       "        })();\n",
       "      </script>\n",
       "    "
      ],
      "text/plain": [
       "<IPython.core.display.HTML object>"
      ]
     },
     "metadata": {},
     "output_type": "display_data"
    }
   ],
   "source": [
    "%load_ext tensorboard\n",
    "%tensorboard --logdir=./my_mnist_logs --port=6008"
   ]
  },
  {
   "cell_type": "code",
   "execution_count": null,
   "metadata": {},
   "outputs": [],
   "source": []
  }
 ],
 "metadata": {
  "kernelspec": {
   "display_name": "Python 3",
   "language": "python",
   "name": "python3"
  },
  "language_info": {
   "codemirror_mode": {
    "name": "ipython",
    "version": 3
   },
   "file_extension": ".py",
   "mimetype": "text/x-python",
   "name": "python",
   "nbconvert_exporter": "python",
   "pygments_lexer": "ipython3",
   "version": "3.8.5"
  }
 },
 "nbformat": 4,
 "nbformat_minor": 4
}
