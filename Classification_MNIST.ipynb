{
 "cells": [
  {
   "cell_type": "markdown",
   "metadata": {},
   "source": [
    "# Summary\n",
    "In this notebook:\n",
    "1. Load and train a model for mnist data set.\n",
    "***\n",
    "2. To improve the model perform hyper parameter tuning with the focus on learning rate.\n",
    "    1. Created a call back that inherits from keras.callbacks.callback that gradually increases learning rate.\n",
    "    2. Passed the callback to the model\n",
    "    3. ran model for one epoch and plotted the callback saved loss values vs. saved rate values.\n",
    "    4. Picked the best learning rate (half of the value when the loss started to go up again)\n",
    "***\n",
    "3. Using the learning rate found in step 2, created a model and \n",
    "    1. passed a callback to it for tensorboard (keras.callbacks.TensorBoard)\n",
    "    2. passed a callback for early stopping (keras.callbacks.EarlyStopping)\n",
    "    3. passed a calleback to save the best model during the training process(keras.callbacks.ModelCheckPoint)\n",
    "***\n",
    "Lessons learned:\n",
    "* Restart the session before any run!!! otherwise there are gonna be some problems."
   ]
  },
  {
   "cell_type": "code",
   "execution_count": 1,
   "metadata": {},
   "outputs": [],
   "source": [
    "import tensorflow as tf\n",
    "from tensorflow import keras\n",
    "\n",
    "import numpy as np\n",
    "import pandas as pd\n",
    "import matplotlib.pyplot as plt"
   ]
  },
  {
   "cell_type": "code",
   "execution_count": 2,
   "metadata": {},
   "outputs": [],
   "source": [
    "(X_train_all, y_train_all), (X_test, y_test )= keras.datasets.mnist.load_data()"
   ]
  },
  {
   "cell_type": "markdown",
   "metadata": {},
   "source": [
    "# Exploratory Data Analysis"
   ]
  },
  {
   "cell_type": "code",
   "execution_count": 3,
   "metadata": {},
   "outputs": [
    {
     "data": {
      "text/plain": [
       "(60000, 28, 28)"
      ]
     },
     "execution_count": 3,
     "metadata": {},
     "output_type": "execute_result"
    }
   ],
   "source": [
    "X_train_all.shape"
   ]
  },
  {
   "cell_type": "code",
   "execution_count": 4,
   "metadata": {},
   "outputs": [
    {
     "data": {
      "text/plain": [
       "(10000, 28, 28)"
      ]
     },
     "execution_count": 4,
     "metadata": {},
     "output_type": "execute_result"
    }
   ],
   "source": [
    "X_test.shape"
   ]
  },
  {
   "cell_type": "code",
   "execution_count": 5,
   "metadata": {},
   "outputs": [
    {
     "data": {
      "text/plain": [
       "<matplotlib.image.AxesImage at 0x7f8ba9949400>"
      ]
     },
     "execution_count": 5,
     "metadata": {},
     "output_type": "execute_result"
    },
    {
     "data": {
      "image/png": "[encoded data removed]",
      "text/plain": [
       "<Figure size 432x288 with 1 Axes>"
      ]
     },
     "metadata": {
      "needs_background": "light"
     },
     "output_type": "display_data"
    }
   ],
   "source": [
    "plt.imshow(X_train_all[800,:])"
   ]
  },
  {
   "cell_type": "markdown",
   "metadata": {},
   "source": [
    "# Data Prepration\n",
    "\n",
    "### Splitting train set into train and validation sets "
   ]
  },
  {
   "cell_type": "code",
   "execution_count": 6,
   "metadata": {},
   "outputs": [],
   "source": [
    "from sklearn.model_selection import train_test_split\n",
    "\n",
    "X_train, X_valid, y_train, y_valid = train_test_split(X_train_all, y_train_all, train_size=0.917, random_state = 42)"
   ]
  },
  {
   "cell_type": "code",
   "execution_count": 7,
   "metadata": {},
   "outputs": [
    {
     "data": {
      "text/plain": [
       "(55020, 28, 28)"
      ]
     },
     "execution_count": 7,
     "metadata": {},
     "output_type": "execute_result"
    }
   ],
   "source": [
    "X_train.shape"
   ]
  },
  {
   "cell_type": "code",
   "execution_count": 8,
   "metadata": {},
   "outputs": [
    {
     "data": {
      "text/plain": [
       "(4980,)"
      ]
     },
     "execution_count": 8,
     "metadata": {},
     "output_type": "execute_result"
    }
   ],
   "source": [
    "y_valid.shape"
   ]
  },
  {
   "cell_type": "code",
   "execution_count": 9,
   "metadata": {},
   "outputs": [
    {
     "data": {
      "text/plain": [
       "(4980, 28, 28)"
      ]
     },
     "execution_count": 9,
     "metadata": {},
     "output_type": "execute_result"
    }
   ],
   "source": [
    "X_valid.shape"
   ]
  },
  {
   "cell_type": "code",
   "execution_count": 10,
   "metadata": {},
   "outputs": [
    {
     "data": {
      "text/plain": [
       "(4980,)"
      ]
     },
     "execution_count": 10,
     "metadata": {},
     "output_type": "execute_result"
    }
   ],
   "source": [
    "y_valid.shape"
   ]
  },
  {
   "cell_type": "code",
   "execution_count": 11,
   "metadata": {},
   "outputs": [
    {
     "data": {
      "image/png": "[encoded data removed]",
      "text/plain": [
       "<Figure size 432x288 with 1 Axes>"
      ]
     },
     "metadata": {
      "needs_background": "light"
     },
     "output_type": "display_data"
    }
   ],
   "source": [
    "plt.imshow(X_valid[10,:], cmap=\"binary\")\n",
    "plt.axis('off')\n",
    "plt.show()"
   ]
  },
  {
   "cell_type": "markdown",
   "metadata": {},
   "source": [
    "### Feature Scaling (Standardization)"
   ]
  },
  {
   "cell_type": "code",
   "execution_count": 12,
   "metadata": {},
   "outputs": [],
   "source": [
    "X_train = X_train/255.0\n",
    "X_valid = X_valid/255.0\n",
    "X_test = X_test/255.0"
   ]
  },
  {
   "cell_type": "markdown",
   "metadata": {},
   "source": [
    "# Building Model"
   ]
  },
  {
   "cell_type": "markdown",
   "metadata": {},
   "source": [
    "Lets build a deep network with 4 hidden layer, 1 output and 1 input layer."
   ]
  },
  {
   "cell_type": "code",
   "execution_count": 13,
   "metadata": {},
   "outputs": [],
   "source": [
    "keras.backend.clear_session()\n",
    "np.random.seed(42)\n",
    "tf.random.set_seed(42)"
   ]
  },
  {
   "cell_type": "code",
   "execution_count": 14,
   "metadata": {},
   "outputs": [],
   "source": [
    "model = keras.models.Sequential()\n",
    "model.add(keras.layers.Flatten(input_shape = [28,28]))\n",
    "model.add(keras.layers.Dense(300, activation = \"relu\"))\n",
    "model.add(keras.layers.Dense(100, activation = \"relu\"))\n",
    "model.add(keras.layers.Dense(10, activation = \"softmax\"))"
   ]
  },
  {
   "cell_type": "code",
   "execution_count": 18,
   "metadata": {},
   "outputs": [],
   "source": [
    "model.compile(loss= keras.losses.sparse_categorical_crossentropy,\n",
    "              optimizer=keras.optimizers.SGD(lr=0.001),\n",
    "              metrics=[\"accuracy\"])"
   ]
  },
  {
   "cell_type": "code",
   "execution_count": null,
   "metadata": {},
   "outputs": [],
   "source": [
    "history = model.fit(X_train, y_train, epochs = 30, validation_data = (X_valid, y_valid))"
   ]
  },
  {
   "cell_type": "code",
   "execution_count": null,
   "metadata": {},
   "outputs": [],
   "source": [
    "model.evaluate(X_test, y_test)"
   ]
  },
  {
   "cell_type": "markdown",
   "metadata": {},
   "source": [
    "As show above, the accuracy reached 96.5%. Let's try hyper parameter tuning to increase accuracy. Goal is 98%."
   ]
  },
  {
   "cell_type": "markdown",
   "metadata": {},
   "source": [
    "# Searching for the best learning rate"
   ]
  },
  {
   "cell_type": "code",
   "execution_count": null,
   "metadata": {},
   "outputs": [],
   "source": [
    "keras.backend.clear_session()\n",
    "np.random.seed(42)\n",
    "tf.random.set_seed(42)"
   ]
  },
  {
   "cell_type": "code",
   "execution_count": null,
   "metadata": {},
   "outputs": [],
   "source": [
    "model = keras.models.Sequential()\n",
    "model.add(keras.layers.Flatten(input_shape = [28,28]))\n",
    "model.add(keras.layers.Dense(300, activation = \"relu\"))\n",
    "model.add(keras.layers.Dense(100, activation = \"relu\"))\n",
    "model.add(keras.layers.Dense(10, activation = \"softmax\"))"
   ]
  },
  {
   "cell_type": "code",
   "execution_count": null,
   "metadata": {},
   "outputs": [],
   "source": [
    "model.compile(loss= keras.losses.sparse_categorical_crossentropy,\n",
    "              optimizer=keras.optimizers.SGD(lr=0.001),\n",
    "              metrics=[\"accuracy\"])"
   ]
  },
  {
   "cell_type": "code",
   "execution_count": 19,
   "metadata": {},
   "outputs": [],
   "source": [
    "K = keras.backend\n",
    "class ExponentialLearningRate(keras.callbacks.Callback):\n",
    "    def __init__(self, factor):\n",
    "        self.factor = factor\n",
    "        self.rates = []\n",
    "        self.losses = []\n",
    "    def on_batch_end(self, batch, logs):\n",
    "        self.rates.append(K.get_value(self.model.optimizer.lr))\n",
    "        self.losses.append(logs[\"loss\"])\n",
    "        K.set_value(self.model.optimizer.lr, self.model.optimizer.lr * self.factor)"
   ]
  },
  {
   "cell_type": "code",
   "execution_count": 20,
   "metadata": {},
   "outputs": [],
   "source": [
    "exponentialLRCallBack = ExponentialLearningRate(1.005)"
   ]
  },
  {
   "cell_type": "code",
   "execution_count": 21,
   "metadata": {},
   "outputs": [
    {
     "name": "stdout",
     "output_type": "stream",
     "text": [
      "1720/1720 [==============================] - 4s 2ms/step - loss: nan - accuracy: 0.4876 - val_loss: nan - val_accuracy: 0.1020\n"
     ]
    }
   ],
   "source": [
    "history = model.fit(X_train, y_train, epochs = 1, validation_data = (X_valid, y_valid),\n",
    "                    callbacks=[exponentialLRCallBack])"
   ]
  },
  {
   "cell_type": "code",
   "execution_count": 26,
   "metadata": {},
   "outputs": [
    {
     "data": {
      "text/plain": [
       "Text(0, 0.5, 'Loss')"
      ]
     },
     "execution_count": 26,
     "metadata": {},
     "output_type": "execute_result"
    },
    {
     "data": {
      "image/png": "[encoded data removed]",
      "text/plain": [
       "<Figure size 432x288 with 1 Axes>"
      ]
     },
     "metadata": {
      "needs_background": "light"
     },
     "output_type": "display_data"
    }
   ],
   "source": [
    "plt.plot(exponentialLRCallBack.rates, exponentialLRCallBack.losses)\n",
    "plt.gca().set_xscale('log')\n",
    "plt.hlines(min(exponentialLRCallBack.losses), min(exponentialLRCallBack.rates), max(exponentialLRCallBack.rates))\n",
    "plt.axis([min(exponentialLRCallBack.rates), max(exponentialLRCallBack.rates), 0, exponentialLRCallBack.losses[0]])\n",
    "plt.grid()\n",
    "plt.xlabel(\"Learning rate\")\n",
    "plt.ylabel(\"Loss\")"
   ]
  },
  {
   "cell_type": "markdown",
   "metadata": {},
   "source": [
    "it looks like it starts to go up around 3e-1. So we clear the session and run the model with lr = 3e-1"
   ]
  },
  {
   "cell_type": "code",
   "execution_count": 64,
   "metadata": {},
   "outputs": [],
   "source": [
    "keras.backend.clear_session()\n",
    "np.random.seed(42)\n",
    "tf.random.set_seed(42)"
   ]
  },
  {
   "cell_type": "code",
   "execution_count": 65,
   "metadata": {},
   "outputs": [],
   "source": [
    "model = keras.models.Sequential()\n",
    "model.add(keras.layers.Flatten(input_shape = [28,28]))\n",
    "model.add(keras.layers.Dense(300, activation = \"relu\"))\n",
    "model.add(keras.layers.Dense(300, activation = \"relu\"))\n",
    "model.add(keras.layers.Dense(300, activation = \"relu\"))\n",
    "model.add(keras.layers.Dense(100, activation = \"relu\"))\n",
    "model.add(keras.layers.Dense(10, activation = \"softmax\"))"
   ]
  },
  {
   "cell_type": "code",
   "execution_count": 66,
   "metadata": {},
   "outputs": [],
   "source": [
    "model.compile(loss= keras.losses.sparse_categorical_crossentropy,\n",
    "              optimizer=keras.optimizers.SGD(lr=3e-1),\n",
    "              metrics=[\"accuracy\"])"
   ]
  },
  {
   "cell_type": "code",
   "execution_count": 67,
   "metadata": {},
   "outputs": [],
   "source": [
    "# tensorboard call back\n",
    "import os\n",
    "\n",
    "run_index = 2 # increment this at every run\n",
    "run_logdir = os.path.join(os.curdir, \"my_mnist_logs\", \"run_{:03d}\".format(run_index))\n",
    "run_logdir\n",
    "tensorboardCb = keras.callbacks.TensorBoard(run_logdir)"
   ]
  },
  {
   "cell_type": "code",
   "execution_count": 68,
   "metadata": {},
   "outputs": [],
   "source": [
    "# Saving the best model call back\n",
    "saveBestCb = keras.callbacks.ModelCheckpoint(\"Classification_MNIST_best.h5\", save_best_only=True)"
   ]
  },
  {
   "cell_type": "code",
   "execution_count": 69,
   "metadata": {},
   "outputs": [
    {
     "name": "stdout",
     "output_type": "stream",
     "text": [
      "Epoch 1/30\n",
      "1720/1720 [==============================] - 5s 3ms/step - loss: 0.5614 - accuracy: 0.8238 - val_loss: 0.1684 - val_accuracy: 0.9474\n",
      "Epoch 2/30\n",
      "1720/1720 [==============================] - 5s 3ms/step - loss: 0.1122 - accuracy: 0.9655 - val_loss: 0.1212 - val_accuracy: 0.9635\n",
      "Epoch 3/30\n",
      "1720/1720 [==============================] - 5s 3ms/step - loss: 0.0809 - accuracy: 0.9755 - val_loss: 0.0857 - val_accuracy: 0.9761\n",
      "Epoch 4/30\n",
      "1720/1720 [==============================] - 5s 3ms/step - loss: 0.0615 - accuracy: 0.9811 - val_loss: 0.1282 - val_accuracy: 0.9624\n",
      "Epoch 5/30\n",
      "1720/1720 [==============================] - 5s 3ms/step - loss: 0.0464 - accuracy: 0.9854 - val_loss: 0.1354 - val_accuracy: 0.9631\n",
      "Epoch 6/30\n",
      "1720/1720 [==============================] - 5s 3ms/step - loss: 0.0382 - accuracy: 0.9880 - val_loss: 0.0761 - val_accuracy: 0.9783\n",
      "Epoch 7/30\n",
      "1720/1720 [==============================] - 5s 3ms/step - loss: 0.0284 - accuracy: 0.9905 - val_loss: 0.0696 - val_accuracy: 0.9817\n",
      "Epoch 8/30\n",
      "1720/1720 [==============================] - 5s 3ms/step - loss: 0.0259 - accuracy: 0.9918 - val_loss: 0.0685 - val_accuracy: 0.9799\n",
      "Epoch 9/30\n",
      "1720/1720 [==============================] - 5s 3ms/step - loss: 0.0208 - accuracy: 0.9933 - val_loss: 0.0863 - val_accuracy: 0.9777\n",
      "Epoch 10/30\n",
      "1720/1720 [==============================] - 5s 3ms/step - loss: 0.0185 - accuracy: 0.9943 - val_loss: 0.0917 - val_accuracy: 0.9791\n",
      "Epoch 11/30\n",
      "1720/1720 [==============================] - 5s 3ms/step - loss: 0.0136 - accuracy: 0.9960 - val_loss: 0.8214 - val_accuracy: 0.9090\n",
      "Epoch 12/30\n",
      "1720/1720 [==============================] - 5s 3ms/step - loss: 0.0279 - accuracy: 0.9930 - val_loss: 0.0746 - val_accuracy: 0.9815\n",
      "Epoch 13/30\n",
      "1720/1720 [==============================] - 5s 3ms/step - loss: 0.0109 - accuracy: 0.9966 - val_loss: 0.0697 - val_accuracy: 0.9813\n",
      "Epoch 14/30\n",
      "1720/1720 [==============================] - 5s 3ms/step - loss: 0.0116 - accuracy: 0.9963 - val_loss: 0.0802 - val_accuracy: 0.9807\n",
      "Epoch 15/30\n",
      "1720/1720 [==============================] - 5s 3ms/step - loss: 0.0066 - accuracy: 0.9983 - val_loss: 0.1171 - val_accuracy: 0.9787\n",
      "Epoch 16/30\n",
      "1720/1720 [==============================] - 5s 3ms/step - loss: 0.0110 - accuracy: 0.9969 - val_loss: 0.0900 - val_accuracy: 0.9799\n",
      "Epoch 17/30\n",
      "1720/1720 [==============================] - 5s 3ms/step - loss: 0.0084 - accuracy: 0.9976 - val_loss: 0.0767 - val_accuracy: 0.9849\n",
      "Epoch 18/30\n",
      "1720/1720 [==============================] - 5s 3ms/step - loss: 0.0090 - accuracy: 0.9973 - val_loss: 0.0788 - val_accuracy: 0.9837\n",
      "Epoch 19/30\n",
      "1720/1720 [==============================] - 5s 3ms/step - loss: 0.0053 - accuracy: 0.9987 - val_loss: 0.3137 - val_accuracy: 0.9558\n",
      "Epoch 20/30\n",
      "1720/1720 [==============================] - 5s 3ms/step - loss: 0.0128 - accuracy: 0.9964 - val_loss: 0.0754 - val_accuracy: 0.9829\n",
      "Epoch 21/30\n",
      "1720/1720 [==============================] - 5s 3ms/step - loss: 0.0021 - accuracy: 0.9994 - val_loss: 0.0999 - val_accuracy: 0.9805\n",
      "Epoch 22/30\n",
      "1720/1720 [==============================] - 5s 3ms/step - loss: 0.0059 - accuracy: 0.9980 - val_loss: 0.0942 - val_accuracy: 0.9815\n",
      "Epoch 23/30\n",
      "1720/1720 [==============================] - 5s 3ms/step - loss: 0.0047 - accuracy: 0.9987 - val_loss: 0.1068 - val_accuracy: 0.9799\n",
      "Epoch 24/30\n",
      "1720/1720 [==============================] - 5s 3ms/step - loss: 0.0064 - accuracy: 0.9978 - val_loss: 0.1124 - val_accuracy: 0.9767\n",
      "Epoch 25/30\n",
      "1720/1720 [==============================] - 5s 3ms/step - loss: 0.0081 - accuracy: 0.9971 - val_loss: 0.1129 - val_accuracy: 0.9797\n",
      "Epoch 26/30\n",
      "1720/1720 [==============================] - 5s 3ms/step - loss: 0.0085 - accuracy: 0.9974 - val_loss: 0.0998 - val_accuracy: 0.9793\n",
      "Epoch 27/30\n",
      "1720/1720 [==============================] - 5s 3ms/step - loss: 0.0015 - accuracy: 0.9997 - val_loss: 0.0896 - val_accuracy: 0.9827\n",
      "Epoch 28/30\n",
      "1720/1720 [==============================] - 5s 3ms/step - loss: 7.7645e-04 - accuracy: 0.9998 - val_loss: 0.0838 - val_accuracy: 0.9823\n"
     ]
    }
   ],
   "source": [
    "history = model.fit(X_train, y_train, epochs = 30, validation_data = (X_valid, y_valid),\n",
    "                   callbacks=[keras.callbacks.EarlyStopping(patience=20),\n",
    "                             tensorboardCb,\n",
    "                             saveBestCb])"
   ]
  },
  {
   "cell_type": "code",
   "execution_count": 72,
   "metadata": {},
   "outputs": [
    {
     "name": "stdout",
     "output_type": "stream",
     "text": [
      "313/313 [==============================] - 0s 892us/step - loss: 0.0805 - accuracy: 0.9778\n"
     ]
    },
    {
     "data": {
      "text/plain": [
       "[0.08048716187477112, 0.9778000116348267]"
      ]
     },
     "execution_count": 72,
     "metadata": {},
     "output_type": "execute_result"
    }
   ],
   "source": [
    "model = keras.models.load_model(\"Classification_MNIST_best.h5\")\n",
    "model.evaluate(X_test, y_test)"
   ]
  },
  {
   "cell_type": "code",
   "execution_count": 78,
   "metadata": {},
   "outputs": [
    {
     "data": {
      "text/html": [
       "\n",
       "      <iframe id=\"tensorboard-frame-4630b83192d7bce5\" width=\"100%\" height=\"800\" frameborder=\"0\">\n",
       "      </iframe>\n",
       "      <script>\n",
       "        (function() {\n",
       "          const frame = document.getElementById(\"tensorboard-frame-4630b83192d7bce5\");\n",
       "          const url = new URL(\"/\", window.location);\n",
       "          const port = 6007;\n",
       "          if (port) {\n",
       "            url.port = port;\n",
       "          }\n",
       "          frame.src = url;\n",
       "        })();\n",
       "      </script>\n",
       "    "
      ],
      "text/plain": [
       "<IPython.core.display.HTML object>"
      ]
     },
     "metadata": {},
     "output_type": "display_data"
    }
   ],
   "source": [
    "%tensorboard --logdir=./my_mnist_logs --port=6007"
   ]
  }
 ],
 "metadata": {
  "kernelspec": {
   "display_name": "Python 3",
   "language": "python",
   "name": "python3"
  },
  "language_info": {
   "codemirror_mode": {
    "name": "ipython",
    "version": 3
   },
   "file_extension": ".py",
   "mimetype": "text/x-python",
   "name": "python",
   "nbconvert_exporter": "python",
   "pygments_lexer": "ipython3",
   "version": "3.8.5"
  }
 },
 "nbformat": 4,
 "nbformat_minor": 4
}
